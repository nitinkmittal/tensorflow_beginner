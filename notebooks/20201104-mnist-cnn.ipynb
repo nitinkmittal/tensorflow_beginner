{
 "cells": [
  {
   "cell_type": "code",
   "execution_count": 1,
   "metadata": {},
   "outputs": [],
   "source": [
    "%load_ext autoreload\n",
    "%autoreload 2"
   ]
  },
  {
   "cell_type": "code",
   "execution_count": 2,
   "metadata": {},
   "outputs": [],
   "source": [
    "import tensorflow as tf\n",
    "from tensorflow.keras.backend import clear_session # to clear keras session\n",
    "from tensorflow.keras.models import Sequential # to build sequential model\n",
    "from tensorflow.keras.layers import Dense, Dropout, Conv2D, MaxPooling2D, Flatten # different keras layers\n",
    "from tensorflow.keras.utils import to_categorical # to convert output to categorical\n",
    "from tensorflow.keras.optimizers import Adam\n",
    "from tensorflow.keras.datasets import mnist, cifar10 # to load MNIST dataset\n",
    "from tensorflow.keras.models import load_model # load keras model\n",
    "from tensorflow.keras.callbacks import EarlyStopping, LearningRateScheduler, ReduceLROnPlateau # keras callbacks"
   ]
  },
  {
   "cell_type": "code",
   "execution_count": 3,
   "metadata": {},
   "outputs": [],
   "source": [
    "import pandas as pd\n",
    "from os import getcwd\n",
    "from sys import path\n",
    "from matplotlib import pyplot as plt\n",
    "import numpy as np\n",
    "from functools import partial"
   ]
  },
  {
   "cell_type": "code",
   "execution_count": 4,
   "metadata": {},
   "outputs": [],
   "source": [
    "PROJECT_PATH = getcwd()[:getcwd().find(\"notebooks\")][:-1]\n",
    "MODEL_PATH = f\"{PROJECT_PATH}\\\\models\"\n",
    "path.append(f\"{PROJECT_PATH}\\\\src\")"
   ]
  },
  {
   "cell_type": "code",
   "execution_count": 5,
   "metadata": {},
   "outputs": [],
   "source": [
    "from plot_losses import PlotLosses"
   ]
  },
  {
   "cell_type": "code",
   "execution_count": 6,
   "metadata": {},
   "outputs": [],
   "source": [
    "RANDOM_STATE = 42\n",
    "tf.random.set_seed(RANDOM_STATE)"
   ]
  },
  {
   "cell_type": "code",
   "execution_count": 7,
   "metadata": {},
   "outputs": [
    {
     "name": "stdout",
     "output_type": "stream",
     "text": [
      "Found 60000 training and 10000 testing data points\n"
     ]
    }
   ],
   "source": [
    "(X_train, Y_train), (X_test, Y_test) = mnist.load_data()\n",
    "print(f\"Found {X_train.shape[0]} training and {X_test.shape[0]} testing data points\")"
   ]
  },
  {
   "cell_type": "code",
   "execution_count": 8,
   "metadata": {},
   "outputs": [
    {
     "name": "stdout",
     "output_type": "stream",
     "text": [
      "Digit: 4\n"
     ]
    },
    {
     "data": {
      "text/plain": [
       "<matplotlib.image.AxesImage at 0x2668ab25eb8>"
      ]
     },
     "execution_count": 8,
     "metadata": {},
     "output_type": "execute_result"
    },
    {
     "data": {
      "image/png": "[encoded data removed]",
      "text/plain": [
       "<Figure size 432x288 with 1 Axes>"
      ]
     },
     "metadata": {
      "needs_background": "light"
     },
     "output_type": "display_data"
    }
   ],
   "source": [
    "i = 20\n",
    "print(\"Digit: %d\"% Y_train[i])\n",
    "plt.imshow(X_train[i])"
   ]
  },
  {
   "cell_type": "code",
   "execution_count": 9,
   "metadata": {},
   "outputs": [
    {
     "name": "stdout",
     "output_type": "stream",
     "text": [
      "Height: 28 and Width: 28\n",
      "Unique number of digits: 10\n"
     ]
    }
   ],
   "source": [
    "# Reshape data\n",
    "HEIGHT = X_train.shape[1]\n",
    "WIDTH = X_train.shape[2]\n",
    "NUM_CLASSES = len(np.unique(Y_train))\n",
    "\n",
    "print(f\"Height: {HEIGHT} and Width: {HEIGHT}\")\n",
    "print(f\"Unique number of digits: {NUM_CLASSES}\")"
   ]
  },
  {
   "cell_type": "code",
   "execution_count": 10,
   "metadata": {},
   "outputs": [
    {
     "data": {
      "text/plain": [
       "(60000, 28, 28)"
      ]
     },
     "execution_count": 10,
     "metadata": {},
     "output_type": "execute_result"
    }
   ],
   "source": [
    "X_train.shape"
   ]
  },
  {
   "cell_type": "code",
   "execution_count": 11,
   "metadata": {},
   "outputs": [
    {
     "data": {
      "text/plain": [
       "(60000, 28, 28, 1)"
      ]
     },
     "execution_count": 11,
     "metadata": {},
     "output_type": "execute_result"
    }
   ],
   "source": [
    "X_train.shape + (1, )"
   ]
  },
  {
   "cell_type": "code",
   "execution_count": 12,
   "metadata": {},
   "outputs": [],
   "source": [
    "def preprocess_data(data : np.ndarray):\n",
    "    \"\"\"Flatten and normalize data.\"\"\"\n",
    "    data = data.reshape(data.shape + (1, )) # mnist single channel, every pixel denoted by 1 array\n",
    "    return data / 255.0 # normalizing values"
   ]
  },
  {
   "cell_type": "code",
   "execution_count": 13,
   "metadata": {},
   "outputs": [],
   "source": [
    "def generate_categories(data : np.ndarray, \n",
    "                        n_categories : int):\n",
    "    \"\"\"Generate one hot encoded categories for each class.\"\"\"\n",
    "    return to_categorical(data, num_classes = n_categories)"
   ]
  },
  {
   "cell_type": "code",
   "execution_count": 14,
   "metadata": {},
   "outputs": [],
   "source": [
    "X_train = preprocess_data(X_train)\n",
    "Y_train = generate_categories(Y_train, NUM_CLASSES)\n",
    "\n",
    "X_test = preprocess_data(X_test)\n",
    "Y_test = generate_categories(Y_test, NUM_CLASSES) "
   ]
  },
  {
   "cell_type": "code",
   "execution_count": 15,
   "metadata": {},
   "outputs": [
    {
     "name": "stdout",
     "output_type": "stream",
     "text": [
      "After preprocessing, input data shape: (60000, 28, 28, 1)\n",
      "After generating categories, output data shape: (60000, 10)\n"
     ]
    }
   ],
   "source": [
    "print(f\"After preprocessing, input data shape: {X_train.shape}\")\n",
    "print(f\"After generating categories, output data shape: {Y_train.shape}\")"
   ]
  },
  {
   "cell_type": "code",
   "execution_count": 16,
   "metadata": {},
   "outputs": [
    {
     "name": "stdout",
     "output_type": "stream",
     "text": [
      "Model: \"sequential\"\n",
      "_________________________________________________________________\n",
      "Layer (type)                 Output Shape              Param #   \n",
      "=================================================================\n",
      "conv2d (Conv2D)              (None, 26, 26, 32)        320       \n",
      "_________________________________________________________________\n",
      "max_pooling2d (MaxPooling2D) (None, 13, 13, 32)        0         \n",
      "_________________________________________________________________\n",
      "flatten (Flatten)            (None, 5408)              0         \n",
      "_________________________________________________________________\n",
      "dense (Dense)                (None, 10)                54090     \n",
      "=================================================================\n",
      "Total params: 54,410\n",
      "Trainable params: 54,410\n",
      "Non-trainable params: 0\n",
      "_________________________________________________________________\n"
     ]
    }
   ],
   "source": [
    "clear_session() # clear keras backend session\n",
    "model = Sequential()\n",
    "model.add(Conv2D(filters=32,\n",
    "                 kernel_size=(3,3),\n",
    "                 activation='relu', input_shape = X_train.shape[1:]))\n",
    "model.add(MaxPooling2D((2, 2)))\n",
    "model.add(Flatten())\n",
    "model.add(Dense(NUM_CLASSES, activation='softmax'))\n",
    "\n",
    "optimizer = Adam() \n",
    "\n",
    "model.compile(optimizer = optimizer,\n",
    "              loss = 'categorical_crossentropy',\n",
    "              metrics = ['accuracy'])\n",
    "\n",
    "model.summary()"
   ]
  },
  {
   "cell_type": "code",
   "execution_count": 17,
   "metadata": {},
   "outputs": [
    {
     "data": {
      "image/png": "[encoded data removed]",
      "text/plain": [
       "<Figure size 1008x360 with 2 Axes>"
      ]
     },
     "metadata": {
      "needs_background": "light"
     },
     "output_type": "display_data"
    },
    {
     "name": "stdout",
     "output_type": "stream",
     "text": [
      "54000/54000 [==============================] - 7s 133us/sample - loss: 0.0091 - accuracy: 0.9987 - val_loss: 0.0595 - val_accuracy: 0.9870\n"
     ]
    }
   ],
   "source": [
    "BATCH_SIZE = 1280\n",
    "EPOCHS = 100\n",
    "model_history = model.fit(x = X_train, y = Y_train, \n",
    "                          callbacks = [PlotLosses()],\n",
    "                          batch_size = BATCH_SIZE, \n",
    "                          epochs = EPOCHS, \n",
    "                          validation_split = .1, \n",
    "                          shuffle = True)"
   ]
  },
  {
   "cell_type": "code",
   "execution_count": 18,
   "metadata": {},
   "outputs": [],
   "source": [
    "MODEL_NAME = \"MNIST_CNN\"\n",
    "model.save(f\"{MODEL_PATH}\\\\{MODEL_NAME}.h5\")"
   ]
  },
  {
   "cell_type": "code",
   "execution_count": 19,
   "metadata": {},
   "outputs": [],
   "source": [
    "model = load_model(f\"{MODEL_PATH}\\\\{MODEL_NAME}.h5\") # loading the keras model"
   ]
  },
  {
   "cell_type": "code",
   "execution_count": 20,
   "metadata": {},
   "outputs": [
    {
     "name": "stdout",
     "output_type": "stream",
     "text": [
      "Model: \"sequential\"\n",
      "_________________________________________________________________\n",
      "Layer (type)                 Output Shape              Param #   \n",
      "=================================================================\n",
      "conv2d (Conv2D)              (None, 26, 26, 32)        320       \n",
      "_________________________________________________________________\n",
      "max_pooling2d (MaxPooling2D) (None, 13, 13, 32)        0         \n",
      "_________________________________________________________________\n",
      "flatten (Flatten)            (None, 5408)              0         \n",
      "_________________________________________________________________\n",
      "dense (Dense)                (None, 10)                54090     \n",
      "=================================================================\n",
      "Total params: 54,410\n",
      "Trainable params: 54,410\n",
      "Non-trainable params: 0\n",
      "_________________________________________________________________\n"
     ]
    }
   ],
   "source": [
    "model.summary()"
   ]
  },
  {
   "cell_type": "markdown",
   "metadata": {},
   "source": [
    "# Understanding Early Stopping"
   ]
  },
  {
   "cell_type": "code",
   "execution_count": 21,
   "metadata": {},
   "outputs": [],
   "source": [
    "# to stop model if val loss not decreasing\n",
    "early_stopping = EarlyStopping(monitor = 'val_accuracy', \n",
    "                               min_delta = .0005,  \n",
    "                               verbose = 1, \n",
    "                               mode = 'auto',\n",
    "                               baseline = None, \n",
    "                               restore_best_weights = True)"
   ]
  },
  {
   "cell_type": "code",
   "execution_count": 22,
   "metadata": {},
   "outputs": [
    {
     "data": {
      "image/png": "[encoded data removed]",
      "text/plain": [
       "<Figure size 1008x360 with 2 Axes>"
      ]
     },
     "metadata": {
      "needs_background": "light"
     },
     "output_type": "display_data"
    },
    {
     "name": "stdout",
     "output_type": "stream",
     "text": [
      "Restoring model weights from the end of the best epoch.\n",
      "54000/54000 [==============================] - 7s 132us/sample - loss: 0.0844 - accuracy: 0.9772 - val_loss: 0.0762 - val_accuracy: 0.9795\n",
      "Epoch 00012: early stopping\n"
     ]
    }
   ],
   "source": [
    "clear_session() # clear keras backend session\n",
    "model = Sequential()\n",
    "model.add(Conv2D(filters=32,\n",
    "                 kernel_size=(3,3),\n",
    "                 activation='relu', input_shape = X_train.shape[1:]))\n",
    "model.add(MaxPooling2D((2, 2)))\n",
    "model.add(Flatten())\n",
    "model.add(Dense(NUM_CLASSES, activation='softmax'))\n",
    "\n",
    "optimizer = Adam() \n",
    "\n",
    "model.compile(optimizer = optimizer,\n",
    "              loss = 'categorical_crossentropy',\n",
    "              metrics = ['accuracy'])\n",
    "\n",
    "BATCH_SIZE = 1280\n",
    "EPOCHS = 100\n",
    "model_history = model.fit(x = X_train, y = Y_train, \n",
    "                          callbacks = [PlotLosses(), early_stopping],\n",
    "                          batch_size = BATCH_SIZE, \n",
    "                          epochs = EPOCHS, \n",
    "                          validation_split = .1, \n",
    "                          shuffle = True)"
   ]
  },
  {
   "cell_type": "code",
   "execution_count": 23,
   "metadata": {},
   "outputs": [
    {
     "name": "stdout",
     "output_type": "stream",
     "text": [
      "val_accuracy increase 0 -> 1 : 0.0318\n",
      "val_accuracy increase 1 -> 2 : 0.0143\n",
      "val_accuracy increase 2 -> 3 : 0.0107\n",
      "val_accuracy increase 3 -> 4 : 0.0065\n",
      "val_accuracy increase 4 -> 5 : 0.0055\n",
      "val_accuracy increase 5 -> 6 : 0.0043\n",
      "val_accuracy increase 6 -> 7 : 0.0017\n",
      "val_accuracy increase 7 -> 8 : 0.0032\n",
      "val_accuracy increase 8 -> 9 : 0.0012\n",
      "val_accuracy increase 9 -> 10 : 0.0007\n",
      "val_accuracy increase 10 -> 11 : -0.0012\n"
     ]
    }
   ],
   "source": [
    "val_accuracies = model_history.history['val_accuracy']\n",
    "for i in range(len(val_accuracies)-1):\n",
    "    print(f\"val_accuracy increase {i} -> {i+1} : {val_accuracies[i+1] - val_accuracies[i]:.4f}\")"
   ]
  },
  {
   "cell_type": "markdown",
   "metadata": {},
   "source": [
    "Early stopping condition stopped training when accuracy does not increase by minimum threshold"
   ]
  },
  {
   "cell_type": "code",
   "execution_count": 24,
   "metadata": {},
   "outputs": [
    {
     "name": "stdout",
     "output_type": "stream",
     "text": [
      "Test loss: 0.084946201672405\n",
      "Test accuracy: 0.975\n"
     ]
    }
   ],
   "source": [
    "score = model.evaluate(X_test, Y_test, verbose=0)\n",
    "print('Test loss:', score[0])\n",
    "print('Test accuracy:', score[1])"
   ]
  },
  {
   "cell_type": "markdown",
   "metadata": {},
   "source": [
    "# Understanding Learning Scheduler"
   ]
  },
  {
   "cell_type": "code",
   "execution_count": 25,
   "metadata": {},
   "outputs": [],
   "source": [
    "# This function keeps the initial learning rate for the first ten epochs\n",
    "# and decreases it exponentially after that.\n",
    "def scheduler(epoch, lr):\n",
    "    if epoch < 10:\n",
    "        return lr\n",
    "    else:\n",
    "        return lr * np.math.exp(-0.1)"
   ]
  },
  {
   "cell_type": "code",
   "execution_count": 26,
   "metadata": {},
   "outputs": [
    {
     "data": {
      "image/png": "[encoded data removed]",
      "text/plain": [
       "<Figure size 1008x360 with 2 Axes>"
      ]
     },
     "metadata": {
      "needs_background": "light"
     },
     "output_type": "display_data"
    },
    {
     "name": "stdout",
     "output_type": "stream",
     "text": [
      "54000/54000 [==============================] - 7s 132us/sample - loss: 0.0534 - accuracy: 0.9856 - val_loss: 0.0595 - val_accuracy: 0.9842\n"
     ]
    }
   ],
   "source": [
    "clear_session() # clear keras backend session\n",
    "model = Sequential()\n",
    "model.add(Conv2D(filters=32,\n",
    "                 kernel_size=(3,3),\n",
    "                 activation='relu', input_shape = X_train.shape[1:]))\n",
    "model.add(MaxPooling2D((2, 2)))\n",
    "model.add(Flatten())\n",
    "model.add(Dense(NUM_CLASSES, activation='softmax'))\n",
    "\n",
    "optimizer = Adam() \n",
    "\n",
    "model.compile(optimizer = optimizer,\n",
    "              loss = 'categorical_crossentropy',\n",
    "              metrics = ['accuracy'])\n",
    "\n",
    "BATCH_SIZE = 1280\n",
    "EPOCHS = 100\n",
    "lr_scheduler = LearningRateScheduler(scheduler, verbose=1)\n",
    "\n",
    "model_history = model.fit(x = X_train, y = Y_train, \n",
    "                          callbacks = [PlotLosses(), lr_scheduler],\n",
    "                          batch_size = BATCH_SIZE, \n",
    "                          epochs = EPOCHS, \n",
    "                          validation_split = .1, \n",
    "                          shuffle = True)"
   ]
  },
  {
   "cell_type": "code",
   "execution_count": 27,
   "metadata": {},
   "outputs": [
    {
     "data": {
      "text/plain": [
       "Text(0, 0.5, 'lr')"
      ]
     },
     "execution_count": 27,
     "metadata": {},
     "output_type": "execute_result"
    },
    {
     "data": {
      "image/png": "[encoded data removed]",
      "text/plain": [
       "<Figure size 432x288 with 1 Axes>"
      ]
     },
     "metadata": {
      "needs_background": "light"
     },
     "output_type": "display_data"
    }
   ],
   "source": [
    "lr_init = .001\n",
    "lr_epochs = [lr_init]\n",
    "for i in range(1, EPOCHS):\n",
    "    lr_epochs.append(scheduler(i, lr_epochs[i-1]))\n",
    "fig, ax = plt.subplots()\n",
    "ax.plot(lr_epochs)\n",
    "ax.set_xlabel(\"Epochs\")\n",
    "ax.set_ylabel(\"lr\")"
   ]
  },
  {
   "cell_type": "code",
   "execution_count": 28,
   "metadata": {},
   "outputs": [
    {
     "name": "stdout",
     "output_type": "stream",
     "text": [
      "Test loss: 0.06111803532987833\n",
      "Test accuracy: 0.9805\n"
     ]
    }
   ],
   "source": [
    "score = model.evaluate(X_test, Y_test, verbose=0)\n",
    "print('Test loss:', score[0])\n",
    "print('Test accuracy:', score[1])"
   ]
  },
  {
   "cell_type": "markdown",
   "metadata": {},
   "source": [
    "# Understanding ReduceLROnPlateau"
   ]
  },
  {
   "cell_type": "code",
   "execution_count": 29,
   "metadata": {},
   "outputs": [],
   "source": [
    "reduce_lr = ReduceLROnPlateau(monitor = 'val_accuracy',\n",
    "                              factor = 0.9,\n",
    "                              patience = 10,\n",
    "                              mode = \"auto\",\n",
    "                              min_delta = .01, \n",
    "                              restore_best_weights = True)"
   ]
  },
  {
   "cell_type": "code",
   "execution_count": 30,
   "metadata": {},
   "outputs": [
    {
     "data": {
      "image/png": "[encoded data removed]",
      "text/plain": [
       "<Figure size 1008x360 with 2 Axes>"
      ]
     },
     "metadata": {
      "needs_background": "light"
     },
     "output_type": "display_data"
    },
    {
     "name": "stdout",
     "output_type": "stream",
     "text": [
      "54000/54000 [==============================] - 7s 133us/sample - loss: 0.0146 - accuracy: 0.9973 - val_loss: 0.0589 - val_accuracy: 0.9858\n"
     ]
    }
   ],
   "source": [
    "clear_session() # clear keras backend session\n",
    "model = Sequential()\n",
    "model.add(Conv2D(filters=32,\n",
    "                 kernel_size=(3,3),\n",
    "                 activation='relu', input_shape = X_train.shape[1:]))\n",
    "model.add(MaxPooling2D((2, 2)))\n",
    "model.add(Flatten())\n",
    "model.add(Dense(NUM_CLASSES, activation='softmax'))\n",
    "\n",
    "optimizer = Adam() \n",
    "\n",
    "model.compile(optimizer = optimizer,\n",
    "              loss = 'categorical_crossentropy',\n",
    "              metrics = ['accuracy'])\n",
    "\n",
    "BATCH_SIZE = 1280\n",
    "EPOCHS = 100\n",
    "lr_scheduler = LearningRateScheduler(scheduler, verbose=1)\n",
    "\n",
    "model_history = model.fit(x = X_train, y = Y_train, \n",
    "                          callbacks = [PlotLosses(), reduce_lr],\n",
    "                          batch_size = BATCH_SIZE, \n",
    "                          epochs = EPOCHS, \n",
    "                          validation_split = .1, \n",
    "                          shuffle = True)"
   ]
  },
  {
   "cell_type": "code",
   "execution_count": 31,
   "metadata": {},
   "outputs": [
    {
     "data": {
      "text/plain": [
       "Text(0, 0.5, 'lr')"
      ]
     },
     "execution_count": 31,
     "metadata": {},
     "output_type": "execute_result"
    },
    {
     "data": {
      "image/png": "[encoded data removed]",
      "text/plain": [
       "<Figure size 432x288 with 1 Axes>"
      ]
     },
     "metadata": {
      "needs_background": "light"
     },
     "output_type": "display_data"
    }
   ],
   "source": [
    "fig, ax = plt.subplots()\n",
    "ax.plot(model_history.history[\"lr\"])\n",
    "ax.set_xlabel(\"Epochs\")\n",
    "ax.set_ylabel(\"lr\")"
   ]
  },
  {
   "cell_type": "code",
   "execution_count": 32,
   "metadata": {},
   "outputs": [
    {
     "name": "stdout",
     "output_type": "stream",
     "text": [
      "Test loss: 0.05515486590143991\n",
      "Test accuracy: 0.9843\n"
     ]
    }
   ],
   "source": [
    "score = model.evaluate(X_test, Y_test, verbose=0)\n",
    "print('Test loss:', score[0])\n",
    "print('Test accuracy:', score[1])"
   ]
  },
  {
   "cell_type": "code",
   "execution_count": 33,
   "metadata": {},
   "outputs": [
    {
     "name": "stdout",
     "output_type": "stream",
     "text": [
      "val_accuracy increase 0 -> 1 : 0.0300, lr : 0.0010000000474974513\n",
      "val_accuracy increase 1 -> 2 : 0.0140, lr : 0.0010000000474974513\n",
      "val_accuracy increase 2 -> 3 : 0.0100, lr : 0.0010000000474974513\n",
      "val_accuracy increase 3 -> 4 : 0.0062, lr : 0.0010000000474974513\n",
      "val_accuracy increase 4 -> 5 : 0.0050, lr : 0.0010000000474974513\n",
      "val_accuracy increase 5 -> 6 : 0.0028, lr : 0.0010000000474974513\n",
      "val_accuracy increase 6 -> 7 : 0.0030, lr : 0.0010000000474974513\n",
      "val_accuracy increase 7 -> 8 : 0.0017, lr : 0.0010000000474974513\n",
      "val_accuracy increase 8 -> 9 : 0.0012, lr : 0.0010000000474974513\n",
      "val_accuracy increase 9 -> 10 : 0.0015, lr : 0.0010000000474974513\n",
      "val_accuracy increase 10 -> 11 : 0.0007, lr : 0.0010000000474974513\n",
      "val_accuracy increase 11 -> 12 : 0.0017, lr : 0.0010000000474974513\n",
      "val_accuracy increase 12 -> 13 : 0.0002, lr : 0.0010000000474974513\n",
      "val_accuracy increase 13 -> 14 : 0.0013, lr : 0.0010000000474974513\n",
      "val_accuracy increase 14 -> 15 : 0.0017, lr : 0.0010000000474974513\n",
      "val_accuracy increase 15 -> 16 : -0.0002, lr : 0.0010000000474974513\n",
      "val_accuracy increase 16 -> 17 : 0.0003, lr : 0.0010000000474974513\n",
      "val_accuracy increase 17 -> 18 : 0.0003, lr : 0.0010000000474974513\n",
      "val_accuracy increase 18 -> 19 : 0.0010, lr : 0.0009000000427477062\n",
      "val_accuracy increase 19 -> 20 : 0.0008, lr : 0.0009000000427477062\n",
      "val_accuracy increase 20 -> 21 : -0.0015, lr : 0.0009000000427477062\n",
      "val_accuracy increase 21 -> 22 : 0.0012, lr : 0.0009000000427477062\n",
      "val_accuracy increase 22 -> 23 : 0.0015, lr : 0.0009000000427477062\n",
      "val_accuracy increase 23 -> 24 : -0.0017, lr : 0.0009000000427477062\n",
      "val_accuracy increase 24 -> 25 : 0.0007, lr : 0.0009000000427477062\n",
      "val_accuracy increase 25 -> 26 : 0.0007, lr : 0.0009000000427477062\n",
      "val_accuracy increase 26 -> 27 : -0.0010, lr : 0.0009000000427477062\n",
      "val_accuracy increase 27 -> 28 : 0.0003, lr : 0.0009000000427477062\n",
      "val_accuracy increase 28 -> 29 : 0.0012, lr : 0.0009000000427477062\n",
      "val_accuracy increase 29 -> 30 : 0.0007, lr : 0.0008100000559352338\n",
      "val_accuracy increase 30 -> 31 : 0.0002, lr : 0.0008100000559352338\n",
      "val_accuracy increase 31 -> 32 : -0.0017, lr : 0.0008100000559352338\n",
      "val_accuracy increase 32 -> 33 : -0.0002, lr : 0.0008100000559352338\n",
      "val_accuracy increase 33 -> 34 : -0.0007, lr : 0.0008100000559352338\n",
      "val_accuracy increase 34 -> 35 : 0.0005, lr : 0.0008100000559352338\n",
      "val_accuracy increase 35 -> 36 : 0.0007, lr : 0.0008100000559352338\n",
      "val_accuracy increase 36 -> 37 : 0.0003, lr : 0.0008100000559352338\n",
      "val_accuracy increase 37 -> 38 : 0.0007, lr : 0.0008100000559352338\n",
      "val_accuracy increase 38 -> 39 : -0.0007, lr : 0.0008100000559352338\n",
      "val_accuracy increase 39 -> 40 : -0.0007, lr : 0.0007290000794455409\n",
      "val_accuracy increase 40 -> 41 : 0.0017, lr : 0.0007290000794455409\n",
      "val_accuracy increase 41 -> 42 : -0.0008, lr : 0.0007290000794455409\n",
      "val_accuracy increase 42 -> 43 : -0.0015, lr : 0.0007290000794455409\n",
      "val_accuracy increase 43 -> 44 : 0.0010, lr : 0.0007290000794455409\n",
      "val_accuracy increase 44 -> 45 : 0.0005, lr : 0.0007290000794455409\n",
      "val_accuracy increase 45 -> 46 : -0.0007, lr : 0.0007290000794455409\n",
      "val_accuracy increase 46 -> 47 : 0.0012, lr : 0.0007290000794455409\n",
      "val_accuracy increase 47 -> 48 : -0.0002, lr : 0.0007290000794455409\n",
      "val_accuracy increase 48 -> 49 : -0.0005, lr : 0.0007290000794455409\n",
      "val_accuracy increase 49 -> 50 : 0.0005, lr : 0.0006561000482179224\n",
      "val_accuracy increase 50 -> 51 : -0.0002, lr : 0.0006561000482179224\n",
      "val_accuracy increase 51 -> 52 : 0.0002, lr : 0.0006561000482179224\n",
      "val_accuracy increase 52 -> 53 : -0.0003, lr : 0.0006561000482179224\n",
      "val_accuracy increase 53 -> 54 : 0.0008, lr : 0.0006561000482179224\n",
      "val_accuracy increase 54 -> 55 : -0.0002, lr : 0.0006561000482179224\n",
      "val_accuracy increase 55 -> 56 : -0.0010, lr : 0.0006561000482179224\n",
      "val_accuracy increase 56 -> 57 : 0.0008, lr : 0.0006561000482179224\n",
      "val_accuracy increase 57 -> 58 : -0.0005, lr : 0.0006561000482179224\n",
      "val_accuracy increase 58 -> 59 : 0.0005, lr : 0.0006561000482179224\n",
      "val_accuracy increase 59 -> 60 : 0.0005, lr : 0.0005904900608584285\n",
      "val_accuracy increase 60 -> 61 : -0.0005, lr : 0.0005904900608584285\n",
      "val_accuracy increase 61 -> 62 : -0.0002, lr : 0.0005904900608584285\n",
      "val_accuracy increase 62 -> 63 : -0.0007, lr : 0.0005904900608584285\n",
      "val_accuracy increase 63 -> 64 : 0.0007, lr : 0.0005904900608584285\n",
      "val_accuracy increase 64 -> 65 : 0.0003, lr : 0.0005904900608584285\n",
      "val_accuracy increase 65 -> 66 : -0.0002, lr : 0.0005904900608584285\n",
      "val_accuracy increase 66 -> 67 : -0.0002, lr : 0.0005904900608584285\n",
      "val_accuracy increase 67 -> 68 : -0.0018, lr : 0.0005904900608584285\n",
      "val_accuracy increase 68 -> 69 : 0.0018, lr : 0.0005904900608584285\n",
      "val_accuracy increase 69 -> 70 : -0.0015, lr : 0.0005314410664141178\n",
      "val_accuracy increase 70 -> 71 : 0.0015, lr : 0.0005314410664141178\n",
      "val_accuracy increase 71 -> 72 : -0.0008, lr : 0.0005314410664141178\n",
      "val_accuracy increase 72 -> 73 : 0.0005, lr : 0.0005314410664141178\n",
      "val_accuracy increase 73 -> 74 : -0.0003, lr : 0.0005314410664141178\n",
      "val_accuracy increase 74 -> 75 : 0.0003, lr : 0.0005314410664141178\n",
      "val_accuracy increase 75 -> 76 : 0.0012, lr : 0.0005314410664141178\n",
      "val_accuracy increase 76 -> 77 : 0.0002, lr : 0.0005314410664141178\n",
      "val_accuracy increase 77 -> 78 : -0.0017, lr : 0.0005314410664141178\n",
      "val_accuracy increase 78 -> 79 : 0.0000, lr : 0.0005314410664141178\n",
      "val_accuracy increase 79 -> 80 : 0.0005, lr : 0.00047829694813117385\n",
      "val_accuracy increase 80 -> 81 : -0.0007, lr : 0.00047829694813117385\n",
      "val_accuracy increase 81 -> 82 : 0.0013, lr : 0.00047829694813117385\n",
      "val_accuracy increase 82 -> 83 : -0.0002, lr : 0.00047829694813117385\n",
      "val_accuracy increase 83 -> 84 : -0.0005, lr : 0.00047829694813117385\n",
      "val_accuracy increase 84 -> 85 : 0.0008, lr : 0.00047829694813117385\n",
      "val_accuracy increase 85 -> 86 : -0.0003, lr : 0.00047829694813117385\n",
      "val_accuracy increase 86 -> 87 : -0.0005, lr : 0.00047829694813117385\n",
      "val_accuracy increase 87 -> 88 : -0.0012, lr : 0.00047829694813117385\n",
      "val_accuracy increase 88 -> 89 : 0.0012, lr : 0.00047829694813117385\n",
      "val_accuracy increase 89 -> 90 : -0.0005, lr : 0.00043046724749729037\n",
      "val_accuracy increase 90 -> 91 : 0.0005, lr : 0.00043046724749729037\n",
      "val_accuracy increase 91 -> 92 : 0.0003, lr : 0.00043046724749729037\n",
      "val_accuracy increase 92 -> 93 : -0.0008, lr : 0.00043046724749729037\n",
      "val_accuracy increase 93 -> 94 : 0.0008, lr : 0.00043046724749729037\n",
      "val_accuracy increase 94 -> 95 : -0.0012, lr : 0.00043046724749729037\n",
      "val_accuracy increase 95 -> 96 : 0.0010, lr : 0.00043046724749729037\n",
      "val_accuracy increase 96 -> 97 : -0.0002, lr : 0.00043046724749729037\n",
      "val_accuracy increase 97 -> 98 : -0.0003, lr : 0.00043046724749729037\n",
      "val_accuracy increase 98 -> 99 : 0.0003, lr : 0.00043046724749729037\n"
     ]
    }
   ],
   "source": [
    "val_accuracies = model_history.history['val_accuracy']\n",
    "for i in range(len(val_accuracies)-1):\n",
    "    print(f\"val_accuracy increase {i} -> {i+1} : {val_accuracies[i+1] - val_accuracies[i]:.4f}, lr : {model_history.history['lr'][i]}\")"
   ]
  }
 ],
 "metadata": {
  "kernelspec": {
   "display_name": "tensorflow_beginner",
   "language": "python",
   "name": "tensorflow_beginner"
  },
  "language_info": {
   "codemirror_mode": {
    "name": "ipython",
    "version": 3
   },
   "file_extension": ".py",
   "mimetype": "text/x-python",
   "name": "python",
   "nbconvert_exporter": "python",
   "pygments_lexer": "ipython3",
   "version": "3.7.0"
  }
 },
 "nbformat": 4,
 "nbformat_minor": 4
}
