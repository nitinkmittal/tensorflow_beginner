{
 "cells": [
  {
   "cell_type": "code",
   "execution_count": 1,
   "metadata": {},
   "outputs": [],
   "source": [
    "from matplotlib import pyplot as plt\n",
    "import numpy as np"
   ]
  },
  {
   "cell_type": "code",
   "execution_count": 2,
   "metadata": {},
   "outputs": [],
   "source": [
    "# # To configure GPU usage \n",
    "# from tensorflow import GPUOptions\n",
    "# from tensorflow import ConfigProto\n",
    "# from tensorflow import Session\n",
    "# gpu_options = GPUOptions(per_process_gpu_memory_fraction=1)\n",
    "# sess = Session(config=ConfigProto(gpu_options=gpu_options))"
   ]
  },
  {
   "cell_type": "code",
   "execution_count": 77,
   "metadata": {},
   "outputs": [],
   "source": [
    "from livelossplot.tf_keras import PlotLossesCallback # to plot live plots\n",
    "from tensorflow.keras.backend import clear_session # to clear keras session\n",
    "from tensorflow.keras.models import Sequential, Model # to build sequential model\n",
    "from tensorflow.keras.layers import Dense, Dropout, Conv2D, MaxPooling2D, Flatten # different keras layers\n",
    "from tensorflow.keras.utils import to_categorical # to convert output to categorical\n",
    "from tensorflow.keras.datasets import mnist # to load MNIST dataset\n",
    "from tensorflow.keras.models import load_model # load keras model\n",
    "from tensorflow.keras.callbacks import EarlyStopping, LearningRateScheduler, ReduceLROnPlateau # keras callbacks"
   ]
  },
  {
   "cell_type": "code",
   "execution_count": 4,
   "metadata": {},
   "outputs": [],
   "source": [
    "MODELS_PATH = \".//Keras Models//\""
   ]
  },
  {
   "cell_type": "code",
   "execution_count": 97,
   "metadata": {},
   "outputs": [],
   "source": [
    "(X_train, Y_train), (X_test, Y_test) = mnist.load_data()"
   ]
  },
  {
   "cell_type": "code",
   "execution_count": 98,
   "metadata": {},
   "outputs": [
    {
     "name": "stdout",
     "output_type": "stream",
     "text": [
      "Digit: 4\n"
     ]
    },
    {
     "data": {
      "text/plain": [
       "<matplotlib.image.AxesImage at 0x18fa720b988>"
      ]
     },
     "execution_count": 98,
     "metadata": {},
     "output_type": "execute_result"
    },
    {
     "data": {
      "image/png": "[encoded data removed]",
      "text/plain": [
       "<Figure size 432x288 with 1 Axes>"
      ]
     },
     "metadata": {
      "needs_background": "light"
     },
     "output_type": "display_data"
    }
   ],
   "source": [
    "i = 20\n",
    "print(\"Digit: %d\"%Y_train[i])\n",
    "plt.imshow(X_train[i])"
   ]
  },
  {
   "cell_type": "code",
   "execution_count": 99,
   "metadata": {},
   "outputs": [],
   "source": [
    "# Reshape data\n",
    "HEIGHT = X_train.shape[1]\n",
    "WIDTH = X_train.shape[2]\n",
    "NUM_CLASSES = len(np.unique(Y_train))"
   ]
  },
  {
   "cell_type": "code",
   "execution_count": 100,
   "metadata": {},
   "outputs": [
    {
     "name": "stdout",
     "output_type": "stream",
     "text": [
      "Number of data points in train set: 60000\n",
      "Number of data points in test set: 10000\n",
      "Height: 28 and Width: 28\n",
      "Unique number of digits: 10\n"
     ]
    }
   ],
   "source": [
    "print(\"Number of data points in train set: %d\"%X_train.shape[0])\n",
    "print(\"Number of data points in test set: %d\"%X_test.shape[0])\n",
    "print(\"Height: %d and Width: %d\"%(HEIGHT, WIDTH))\n",
    "print(\"Unique number of digits: %d\"%NUM_CLASSES)"
   ]
  },
  {
   "cell_type": "code",
   "execution_count": 101,
   "metadata": {},
   "outputs": [],
   "source": [
    "def preprocess_data(data):\n",
    "    data = data.reshape((data.shape[0], HEIGHT,WIDTH,1)) # flattening data\n",
    "    return data / 255.0 # normalizing values"
   ]
  },
  {
   "cell_type": "code",
   "execution_count": 102,
   "metadata": {},
   "outputs": [],
   "source": [
    "def generate_categories(data):\n",
    "    # Categorically encode labels\n",
    "    return to_categorical(data, NUM_CLASSES)"
   ]
  },
  {
   "cell_type": "code",
   "execution_count": 108,
   "metadata": {},
   "outputs": [],
   "source": [
    "unique_labels, unique_label_indices = np.unique(Y_train, return_index=True)"
   ]
  },
  {
   "cell_type": "code",
   "execution_count": 109,
   "metadata": {},
   "outputs": [],
   "source": [
    "X_train = preprocess_data(X_train)\n",
    "Y_train = generate_categories(Y_train)\n",
    "\n",
    "X_test = preprocess_data(X_test)\n",
    "Y_test = generate_categories(Y_test) "
   ]
  },
  {
   "cell_type": "code",
   "execution_count": 110,
   "metadata": {},
   "outputs": [
    {
     "name": "stdout",
     "output_type": "stream",
     "text": [
      "Label value: 0, categorical value: [1. 0. 0. 0. 0. 0. 0. 0. 0. 0.]\n",
      "Label value: 1, categorical value: [0. 1. 0. 0. 0. 0. 0. 0. 0. 0.]\n",
      "Label value: 2, categorical value: [0. 0. 1. 0. 0. 0. 0. 0. 0. 0.]\n",
      "Label value: 3, categorical value: [0. 0. 0. 1. 0. 0. 0. 0. 0. 0.]\n",
      "Label value: 4, categorical value: [0. 0. 0. 0. 1. 0. 0. 0. 0. 0.]\n",
      "Label value: 5, categorical value: [0. 0. 0. 0. 0. 1. 0. 0. 0. 0.]\n",
      "Label value: 6, categorical value: [0. 0. 0. 0. 0. 0. 1. 0. 0. 0.]\n",
      "Label value: 7, categorical value: [0. 0. 0. 0. 0. 0. 0. 1. 0. 0.]\n",
      "Label value: 8, categorical value: [0. 0. 0. 0. 0. 0. 0. 0. 1. 0.]\n",
      "Label value: 9, categorical value: [0. 0. 0. 0. 0. 0. 0. 0. 0. 1.]\n"
     ]
    }
   ],
   "source": [
    "for i in unique_labels:\n",
    "    print(\"Label value: %d, categorical value: %s\"%(i, str(Y_train[unique_label_indices[i]])))\n",
    "    "
   ]
  },
  {
   "cell_type": "code",
   "execution_count": 111,
   "metadata": {},
   "outputs": [
    {
     "name": "stdout",
     "output_type": "stream",
     "text": [
      "After preprocessing, input data shape: (60000, 28, 28, 1)\n",
      "After generating categories, output data shape: (60000, 10)\n"
     ]
    }
   ],
   "source": [
    "print(\"After preprocessing, input data shape: %s\"%str(X_train.shape))\n",
    "print(\"After generating categories, output data shape: %s\"%str(Y_train.shape))"
   ]
  },
  {
   "cell_type": "code",
   "execution_count": 35,
   "metadata": {},
   "outputs": [],
   "source": [
    "BATCH_SIZE = 128\n",
    "EPOCHS = 10"
   ]
  },
  {
   "cell_type": "code",
   "execution_count": 38,
   "metadata": {},
   "outputs": [
    {
     "data": {
      "image/png": "[encoded data removed]",
      "text/plain": [
       "<Figure size 864x576 with 2 Axes>"
      ]
     },
     "metadata": {
      "needs_background": "light"
     },
     "output_type": "display_data"
    },
    {
     "name": "stdout",
     "output_type": "stream",
     "text": [
      "Log-loss (cost function):\n",
      "training   (min:    0.026, max:    0.811, cur:    0.026)\n",
      "validation (min:    0.053, max:    0.321, cur:    0.055)\n",
      "\n",
      "Accuracy:\n",
      "training   (min:    0.819, max:    0.993, cur:    0.993)\n",
      "validation (min:    0.916, max:    0.988, cur:    0.988)\n",
      "\b\b\b\b\b\b\b\b\b\b\b\b\b\b\b\b\b\b\b\b\b\b\b\b\b\b\b\b\b\b\b\b\b\b\b\b\b\b\b\b\b\b\b\b\b\b\b\b\b\b\b\b\b\b\b\b\b\b\b\b\b\b\b\b\b\b\b\b\b\b\b\b\b\b\b\b\b\b\b\b\b\b\b\r",
      "54000/54000 [==============================] - 9s 158us/sample - loss: 0.0259 - acc: 0.9932 - val_loss: 0.0545 - val_acc: 0.9880\n"
     ]
    },
    {
     "data": {
      "text/plain": [
       "<tensorflow.python.keras.callbacks.History at 0x18f8bb62908>"
      ]
     },
     "execution_count": 38,
     "metadata": {},
     "output_type": "execute_result"
    }
   ],
   "source": [
    "# Build neural network\n",
    "clear_session() # clear keras backend session\n",
    "model = Sequential()\n",
    "model.add(Conv2D(filters=32, kernel_size=(3,3), activation='relu', input_shape=(HEIGHT,WIDTH,1)))\n",
    "model.add(MaxPooling2D((2, 2)))\n",
    "model.add(Flatten())\n",
    "# model.add(Dropout(0.5))\n",
    "# model.add(Dense(512, activation='relu'))\n",
    "# model.add(Dense(512, activation='relu'))\n",
    "# model.add(Dense(256, activation='relu'))\n",
    "# model.add(Dropout(0.25))\n",
    "model.add(Dense(NUM_CLASSES, activation='softmax'))\n",
    "\n",
    "# Compile model\n",
    "model.compile(optimizer='rmsprop',\n",
    "              loss='categorical_crossentropy',\n",
    "              metrics=['accuracy'])\n",
    "\n",
    "model.summary()\n",
    "\n",
    "# Train model\n",
    "plot_losses = PlotLossesCallback()\n",
    "model.fit(x=X_train, y=Y_train, \n",
    "          callbacks=[plot_losses],\n",
    "          batch_size=1000, \n",
    "          epochs=40, \n",
    "          validation_split=.1, \n",
    "          shuffle=True)"
   ]
  },
  {
   "cell_type": "code",
   "execution_count": 39,
   "metadata": {},
   "outputs": [
    {
     "name": "stdout",
     "output_type": "stream",
     "text": [
      "Test loss: 0.0544339423691621\n",
      "Test accuracy: 0.9833\n"
     ]
    }
   ],
   "source": [
    "score = model.evaluate(X_test, Y_test, verbose=0)\n",
    "print('Test loss:', score[0])\n",
    "print('Test accuracy:', score[1])"
   ]
  },
  {
   "cell_type": "code",
   "execution_count": 40,
   "metadata": {},
   "outputs": [],
   "source": [
    "MODEL_NAME = \"MNIST_KERAS_CNN_MODEL\"\n",
    "model.save(MODELS_PATH+MODEL_NAME+\".h5\")"
   ]
  },
  {
   "cell_type": "code",
   "execution_count": 42,
   "metadata": {},
   "outputs": [],
   "source": [
    "# model = load_model(MODELS_PATH+MODEL_NAME+\".h5\") # loading the keras model"
   ]
  },
  {
   "cell_type": "code",
   "execution_count": 43,
   "metadata": {},
   "outputs": [
    {
     "name": "stdout",
     "output_type": "stream",
     "text": [
      "Model: \"sequential\"\n",
      "_________________________________________________________________\n",
      "Layer (type)                 Output Shape              Param #   \n",
      "=================================================================\n",
      "conv2d (Conv2D)              (None, 26, 26, 32)        320       \n",
      "_________________________________________________________________\n",
      "max_pooling2d (MaxPooling2D) (None, 13, 13, 32)        0         \n",
      "_________________________________________________________________\n",
      "flatten (Flatten)            (None, 5408)              0         \n",
      "_________________________________________________________________\n",
      "dense (Dense)                (None, 10)                54090     \n",
      "=================================================================\n",
      "Total params: 54,410\n",
      "Trainable params: 54,410\n",
      "Non-trainable params: 0\n",
      "_________________________________________________________________\n"
     ]
    }
   ],
   "source": [
    "model.summary()"
   ]
  },
  {
   "cell_type": "markdown",
   "metadata": {},
   "source": [
    "# Understanding Early Stopping"
   ]
  },
  {
   "cell_type": "code",
   "execution_count": 44,
   "metadata": {},
   "outputs": [],
   "source": [
    "# to stop model if val loss not decreasing\n",
    "early_stopping = EarlyStopping(monitor='val_loss', \n",
    "                               min_delta=0.001, \n",
    "                               patience=5, \n",
    "                               verbose=1, \n",
    "                               mode='auto',\n",
    "                               baseline=None, \n",
    "                               restore_best_weights=True)"
   ]
  },
  {
   "cell_type": "code",
   "execution_count": 45,
   "metadata": {},
   "outputs": [
    {
     "data": {
      "image/png": "[encoded data removed]",
      "text/plain": [
       "<Figure size 864x576 with 2 Axes>"
      ]
     },
     "metadata": {
      "needs_background": "light"
     },
     "output_type": "display_data"
    },
    {
     "name": "stdout",
     "output_type": "stream",
     "text": [
      "Log-loss (cost function):\n",
      "training   (min:    0.036, max:    0.762, cur:    0.036)\n",
      "validation (min:    0.054, max:    0.303, cur:    0.056)\n",
      "\n",
      "Accuracy:\n",
      "training   (min:    0.824, max:    0.990, cur:    0.990)\n",
      "validation (min:    0.918, max:    0.986, cur:    0.986)\n",
      "Restoring model weights from the end of the best epoch.\n",
      "54000/54000 [==============================] - 8s 142us/sample - loss: 0.0360 - acc: 0.9901 - val_loss: 0.0556 - val_acc: 0.9857\n",
      "Epoch 00030: early stopping\n"
     ]
    }
   ],
   "source": [
    "clear_session() # clear keras backend session\n",
    "model = Sequential()\n",
    "model.add(Conv2D(filters=32, kernel_size=(3,3), activation='relu', input_shape=(HEIGHT,WIDTH,1)))\n",
    "model.add(MaxPooling2D((2, 2)))\n",
    "model.add(Flatten())\n",
    "# model.add(Dropout(0.5))\n",
    "# model.add(Dense(512, activation='relu'))\n",
    "# model.add(Dense(512, activation='relu'))\n",
    "# model.add(Dense(256, activation='relu'))\n",
    "# model.add(Dropout(0.25))\n",
    "model.add(Dense(NUM_CLASSES, activation='softmax'))\n",
    "\n",
    "# Compile model\n",
    "model.compile(optimizer='rmsprop',\n",
    "              loss='categorical_crossentropy',\n",
    "              metrics=['accuracy'])\n",
    "\n",
    "# to plot live loss plots\n",
    "plot_losses = PlotLossesCallback()\n",
    "\n",
    "\n",
    "# fitting the model\n",
    "model_history = model.fit(x=X_train, y=Y_train, \n",
    "          callbacks=[plot_losses, early_stopping],\n",
    "          batch_size=1000, \n",
    "          epochs=100, \n",
    "          verbose = 1,\n",
    "          validation_split=.1,\n",
    "          shuffle=True)"
   ]
  },
  {
   "cell_type": "code",
   "execution_count": 46,
   "metadata": {},
   "outputs": [
    {
     "name": "stdout",
     "output_type": "stream",
     "text": [
      " loss drop at iteration 1: 0.069078\n",
      " loss drop at iteration 2: 0.033251\n",
      " loss drop at iteration 3: 0.024474\n",
      " loss drop at iteration 4: 0.030702\n",
      " loss drop at iteration 5: 0.014868\n",
      " loss drop at iteration 6: 0.015048\n",
      " loss drop at iteration 7: 0.012142\n",
      " loss drop at iteration 8: 0.008897\n",
      " loss drop at iteration 9: 0.009016\n",
      " loss drop at iteration 10: 0.003227\n",
      " loss drop at iteration 11: 0.007795\n",
      " loss drop at iteration 12: 0.003314\n",
      " loss drop at iteration 13: 0.003135\n",
      " loss drop at iteration 14: 0.002540\n",
      " loss drop at iteration 15: 0.002413\n",
      " loss drop at iteration 16: 0.002569\n",
      " loss drop at iteration 17: 0.000073\n",
      " loss drop at iteration 18: 0.001570\n",
      " loss drop at iteration 19: 0.001974\n",
      " loss drop at iteration 20: -0.004628\n",
      " loss drop at iteration 21: 0.003689\n",
      " loss drop at iteration 22: -0.001784\n",
      " loss drop at iteration 23: 0.002128\n",
      " loss drop at iteration 24: 0.003397\n",
      " loss drop at iteration 25: -0.002848\n",
      " loss drop at iteration 26: 0.002219\n",
      " loss drop at iteration 27: 0.000927\n",
      " loss drop at iteration 28: -0.002080\n",
      " loss drop at iteration 29: 0.000773\n"
     ]
    }
   ],
   "source": [
    "val_loss = model_history.history['val_loss']\n",
    "for i in range(1,len(val_loss)):\n",
    "#     print(\" loss at iteration %d: %f\"%(i, val_loss[i]))\n",
    "    print(\" loss drop at iteration %d: %f\"%(i,val_loss[i-1]-val_loss[i]))\n",
    "#     print()"
   ]
  },
  {
   "cell_type": "code",
   "execution_count": 47,
   "metadata": {},
   "outputs": [
    {
     "data": {
      "text/plain": [
       "[<matplotlib.lines.Line2D at 0x18f8e41e1c8>]"
      ]
     },
     "execution_count": 47,
     "metadata": {},
     "output_type": "execute_result"
    },
    {
     "data": {
      "image/png": "[encoded data removed]",
      "text/plain": [
       "<Figure size 432x288 with 1 Axes>"
      ]
     },
     "metadata": {
      "needs_background": "light"
     },
     "output_type": "display_data"
    }
   ],
   "source": [
    "plt.plot(model_history.history['val_loss'])"
   ]
  },
  {
   "cell_type": "code",
   "execution_count": 48,
   "metadata": {},
   "outputs": [
    {
     "name": "stdout",
     "output_type": "stream",
     "text": [
      "Test loss: 0.0572633275905624\n",
      "Test accuracy: 0.9804\n"
     ]
    }
   ],
   "source": [
    "score = model.evaluate(X_test, Y_test, verbose=0)\n",
    "print('Test loss:', score[0])\n",
    "print('Test accuracy:', score[1])"
   ]
  },
  {
   "cell_type": "markdown",
   "metadata": {},
   "source": [
    "## Visualizing Output After Some Layer"
   ]
  },
  {
   "cell_type": "code",
   "execution_count": 112,
   "metadata": {},
   "outputs": [],
   "source": [
    "layer_output = model.get_layer(index=1).output # setting layer from where we want to visualize the output\n",
    "temp_model = Model(model.input, outputs=[layer_output])"
   ]
  },
  {
   "cell_type": "code",
   "execution_count": 131,
   "metadata": {},
   "outputs": [
    {
     "name": "stdout",
     "output_type": "stream",
     "text": [
      "result shape: (1, 13, 13, 32)\n",
      "Actual Label 6\n"
     ]
    },
    {
     "data": {
      "text/plain": [
       "<matplotlib.image.AxesImage at 0x18fa7939908>"
      ]
     },
     "execution_count": 131,
     "metadata": {},
     "output_type": "execute_result"
    },
    {
     "data": {
      "image/png": "[encoded data removed]",
      "text/plain": [
       "<Figure size 432x288 with 1 Axes>"
      ]
     },
     "metadata": {
      "needs_background": "light"
     },
     "output_type": "display_data"
    }
   ],
   "source": [
    "i = 13\n",
    "result = temp_model.predict(X_train[i].reshape(1, HEIGHT, WIDTH,1)) # parsing input through pre-trained layers\n",
    "print(\"result shape: %s\"%str(result.shape))\n",
    "print(\"Actual Label %s\"%(list(Y_train[i]).index(1))) # getting actual label value from categorical values\n",
    "plt.imshow((result[0][:,:,9]*255.).astype(int)) # regenerating image"
   ]
  },
  {
   "cell_type": "markdown",
   "metadata": {},
   "source": [
    "# Understanding Learning Scheduler"
   ]
  },
  {
   "cell_type": "code",
   "execution_count": 134,
   "metadata": {},
   "outputs": [],
   "source": [
    "# to stop model if val loss not decreasing\n",
    "early_stopping = EarlyStopping(monitor='val_loss', \n",
    "                               min_delta=0.001, \n",
    "                               patience=5, \n",
    "                               verbose=1, \n",
    "                               mode='auto',\n",
    "                               baseline=None, \n",
    "                               restore_best_weights=True)"
   ]
  },
  {
   "cell_type": "code",
   "execution_count": 135,
   "metadata": {},
   "outputs": [],
   "source": [
    "# This function keeps the learning rate at 0.001 for the first ten epochs\n",
    "# and decreases it exponentially after that.\n",
    "def scheduler(epoch):\n",
    "    EPOCHS = 10\n",
    "    if epoch < EPOCHS:\n",
    "        return 0.001\n",
    "    else:\n",
    "        return 0.001 * np.exp(0.1 * (EPOCHS - epoch))\n",
    "\n",
    "lr_scheduler = LearningRateScheduler(scheduler, verbose=1)"
   ]
  },
  {
   "cell_type": "code",
   "execution_count": 137,
   "metadata": {
    "scrolled": true
   },
   "outputs": [
    {
     "data": {
      "image/png": "[encoded data removed]",
      "text/plain": [
       "<Figure size 864x576 with 2 Axes>"
      ]
     },
     "metadata": {
      "needs_background": "light"
     },
     "output_type": "display_data"
    },
    {
     "name": "stdout",
     "output_type": "stream",
     "text": [
      "Log-loss (cost function):\n",
      "training   (min:    0.047, max:    0.744, cur:    0.047)\n",
      "validation (min:    0.056, max:    0.318, cur:    0.056)\n",
      "\n",
      "Accuracy:\n",
      "training   (min:    0.817, max:    0.987, cur:    0.987)\n",
      "validation (min:    0.910, max:    0.986, cur:    0.985)\n",
      "Restoring model weights from the end of the best epoch.\n",
      "54000/54000 [==============================] - 8s 140us/sample - loss: 0.0469 - acc: 0.9874 - val_loss: 0.0559 - val_acc: 0.9852\n",
      "Epoch 00035: early stopping\n"
     ]
    }
   ],
   "source": [
    "clear_session() # clear keras backend session\n",
    "model = Sequential()\n",
    "model.add(Conv2D(filters=32, kernel_size=(3,3), activation='relu', input_shape=(HEIGHT,WIDTH,1)))\n",
    "model.add(MaxPooling2D((2, 2)))\n",
    "model.add(Flatten())\n",
    "model.add(Dense(NUM_CLASSES, activation='softmax'))\n",
    "\n",
    "# Compile model\n",
    "model.compile(optimizer='rmsprop',\n",
    "              loss='categorical_crossentropy',\n",
    "              metrics=['accuracy'])\n",
    "\n",
    "\n",
    "# to plot live loss plots\n",
    "plot_losses = PlotLossesCallback()\n",
    "\n",
    "# fitting the model\n",
    "model_history = model.fit(x=X_train, y=Y_train, \n",
    "          callbacks=[plot_losses, lr_scheduler, early_stopping],\n",
    "          batch_size=1000, \n",
    "          epochs=100, \n",
    "          verbose = 1,\n",
    "          validation_split=.1,\n",
    "          shuffle=True)"
   ]
  },
  {
   "cell_type": "code",
   "execution_count": 138,
   "metadata": {},
   "outputs": [
    {
     "name": "stdout",
     "output_type": "stream",
     "text": [
      "Test loss: 0.06079781747087836\n",
      "Test accuracy: 0.9801\n"
     ]
    }
   ],
   "source": [
    "score = model.evaluate(X_test, Y_test, verbose=0)\n",
    "print('Test loss:', score[0])\n",
    "print('Test accuracy:', score[1])"
   ]
  },
  {
   "cell_type": "code",
   "execution_count": 139,
   "metadata": {},
   "outputs": [
    {
     "name": "stdout",
     "output_type": "stream",
     "text": [
      " loss drop at iteration 1: 0.058198\n",
      " loss drop at iteration 2: 0.029274\n",
      " loss drop at iteration 3: 0.033997\n",
      " loss drop at iteration 4: 0.028686\n",
      " loss drop at iteration 5: 0.024160\n",
      " loss drop at iteration 6: 0.014320\n",
      " loss drop at iteration 7: 0.013482\n",
      " loss drop at iteration 8: 0.016936\n",
      " loss drop at iteration 9: 0.006872\n",
      " loss drop at iteration 10: 0.007138\n",
      " loss drop at iteration 11: 0.008147\n",
      " loss drop at iteration 12: 0.003105\n",
      " loss drop at iteration 13: 0.003531\n",
      " loss drop at iteration 14: 0.001421\n",
      " loss drop at iteration 15: 0.001437\n",
      " loss drop at iteration 16: 0.000703\n",
      " loss drop at iteration 17: 0.003968\n",
      " loss drop at iteration 18: 0.000526\n",
      " loss drop at iteration 19: 0.001518\n",
      " loss drop at iteration 20: -0.001169\n",
      " loss drop at iteration 21: 0.001502\n",
      " loss drop at iteration 22: 0.001287\n",
      " loss drop at iteration 23: -0.000135\n",
      " loss drop at iteration 24: 0.000321\n",
      " loss drop at iteration 25: 0.001093\n",
      " loss drop at iteration 26: -0.000399\n",
      " loss drop at iteration 27: 0.000937\n",
      " loss drop at iteration 28: -0.000198\n",
      " loss drop at iteration 29: 0.000766\n",
      " loss drop at iteration 30: 0.000453\n",
      " loss drop at iteration 31: -0.000097\n",
      " loss drop at iteration 32: 0.000102\n",
      " loss drop at iteration 33: 0.000050\n",
      " loss drop at iteration 34: -0.000141\n"
     ]
    }
   ],
   "source": [
    "val_loss = model_history.history['val_loss']\n",
    "for i in range(1,len(val_loss)):\n",
    "    #print(\" loss at iteration %d: %f\"%(i, val_loss[i]))\n",
    "    print(\" loss drop at iteration %d: %f\"%(i,val_loss[i-1]-val_loss[i]))\n",
    "    #print()"
   ]
  },
  {
   "cell_type": "code",
   "execution_count": 140,
   "metadata": {},
   "outputs": [
    {
     "data": {
      "text/plain": [
       "[<matplotlib.lines.Line2D at 0x18fb178cb88>]"
      ]
     },
     "execution_count": 140,
     "metadata": {},
     "output_type": "execute_result"
    },
    {
     "data": {
      "image/png": "[encoded data removed]",
      "text/plain": [
       "<Figure size 432x288 with 1 Axes>"
      ]
     },
     "metadata": {
      "needs_background": "light"
     },
     "output_type": "display_data"
    }
   ],
   "source": [
    "plt.plot(model_history.history['val_loss'])"
   ]
  },
  {
   "cell_type": "markdown",
   "metadata": {},
   "source": [
    "# Understanding ReduceLROnPlateau"
   ]
  },
  {
   "cell_type": "code",
   "execution_count": 111,
   "metadata": {},
   "outputs": [],
   "source": [
    "# to stop model if val loss not decreasing\n",
    "early_stopping = EarlyStopping(monitor='val_loss', \n",
    "                               min_delta=0.0001, \n",
    "                               patience=10, \n",
    "                               verbose=1, \n",
    "                               mode='auto',\n",
    "                               baseline=None, \n",
    "                               restore_best_weights=True)"
   ]
  },
  {
   "cell_type": "code",
   "execution_count": 117,
   "metadata": {},
   "outputs": [],
   "source": [
    "reduce_lr = ReduceLROnPlateau(monitor='val_loss',\n",
    "                              factor=0.2,\n",
    "                              min_delta = .01,\n",
    "                              patience=5,\n",
    "                              verbose=1,\n",
    "                              min_lr=0.00001)"
   ]
  },
  {
   "cell_type": "code",
   "execution_count": 119,
   "metadata": {},
   "outputs": [
    {
     "data": {
      "image/png": "[encoded data removed]",
      "text/plain": [
       "<Figure size 864x576 with 2 Axes>"
      ]
     },
     "metadata": {
      "needs_background": "light"
     },
     "output_type": "display_data"
    },
    {
     "name": "stdout",
     "output_type": "stream",
     "text": [
      "Log-loss (cost function):\n",
      "training   (min:    0.096, max:    1.049, cur:    0.096)\n",
      "validation (min:    0.106, max:    0.483, cur:    0.106)\n",
      "\n",
      "Accuracy:\n",
      "training   (min:    0.744, max:    0.973, cur:    0.973)\n",
      "validation (min:    0.898, max:    0.972, cur:    0.972)\n",
      "Restoring model weights from the end of the best epoch.\n",
      "54000/54000 [==============================] - 2s 40us/sample - loss: 0.0961 - acc: 0.9732 - val_loss: 0.1058 - val_acc: 0.9717\n",
      "Epoch 00050: early stopping\n"
     ]
    }
   ],
   "source": [
    "# Build neural network\n",
    "clear_session() # clear keras backend session\n",
    "model = Sequential()\n",
    "model.add(Dense(units=32, activation='relu', input_shape=(HEIGHT*WIDTH, )))\n",
    "# model.add(Dropout(0.5))\n",
    "# model.add(Dense(512, activation='relu'))\n",
    "# model.add(Dense(512, activation='relu'))\n",
    "# model.add(Dense(256, activation='relu'))\n",
    "# model.add(Dropout(0.25))\n",
    "model.add(Dense(NUM_CLASSES, activation='softmax'))\n",
    "\n",
    "# Compile model\n",
    "model.compile(optimizer='rmsprop',\n",
    "              loss='categorical_crossentropy',\n",
    "              metrics=['accuracy'])\n",
    "\n",
    "print(model.summary())\n",
    "\n",
    "# to plot live loss plots\n",
    "plot_losses = PlotLossesCallback()\n",
    "\n",
    "# fitting the model\n",
    "model_history = model.fit(x=X_train, y=Y_train, \n",
    "          callbacks=[plot_losses, reduce_lr, early_stopping],\n",
    "          batch_size=1000, \n",
    "          epochs=100, \n",
    "          verbose = 1,\n",
    "          validation_split=.1,\n",
    "          shuffle=True)"
   ]
  },
  {
   "cell_type": "code",
   "execution_count": 120,
   "metadata": {},
   "outputs": [
    {
     "name": "stdout",
     "output_type": "stream",
     "text": [
      "Test loss: 0.12777624480575323\n",
      "Test accuracy: 0.9641\n"
     ]
    }
   ],
   "source": [
    "score = model.evaluate(X_test, Y_test, verbose=0)\n",
    "print('Test loss:', score[0])\n",
    "print('Test accuracy:', score[1])"
   ]
  },
  {
   "cell_type": "code",
   "execution_count": 121,
   "metadata": {},
   "outputs": [
    {
     "name": "stdout",
     "output_type": "stream",
     "text": [
      " loss drop at iteration 1: 0.178508\n",
      " loss drop at iteration 2: 0.053628\n",
      " loss drop at iteration 3: 0.028441\n",
      " loss drop at iteration 4: 0.018827\n",
      " loss drop at iteration 5: 0.017473\n",
      " loss drop at iteration 6: 0.007838\n",
      " loss drop at iteration 7: 0.014738\n",
      " loss drop at iteration 8: 0.006190\n",
      " loss drop at iteration 9: 0.009824\n",
      " loss drop at iteration 10: 0.003843\n",
      " loss drop at iteration 11: 0.005266\n",
      " loss drop at iteration 12: 0.001604\n",
      " loss drop at iteration 13: 0.005439\n",
      " loss drop at iteration 14: 0.001557\n",
      " loss drop at iteration 15: 0.004216\n",
      " loss drop at iteration 16: 0.003112\n",
      " loss drop at iteration 17: 0.003245\n",
      " loss drop at iteration 18: 0.000572\n",
      " loss drop at iteration 19: 0.005036\n",
      " loss drop at iteration 20: 0.000962\n",
      " loss drop at iteration 21: 0.000203\n",
      " loss drop at iteration 22: 0.001121\n",
      " loss drop at iteration 23: 0.000922\n",
      " loss drop at iteration 24: -0.000915\n",
      " loss drop at iteration 25: 0.004141\n",
      " loss drop at iteration 26: 0.000250\n",
      " loss drop at iteration 27: 0.000484\n",
      " loss drop at iteration 28: -0.001106\n",
      " loss drop at iteration 29: 0.001063\n",
      " loss drop at iteration 30: -0.000035\n",
      " loss drop at iteration 31: 0.000076\n",
      " loss drop at iteration 32: 0.000082\n",
      " loss drop at iteration 33: -0.000022\n",
      " loss drop at iteration 34: 0.000048\n",
      " loss drop at iteration 35: 0.000029\n",
      " loss drop at iteration 36: 0.000024\n",
      " loss drop at iteration 37: 0.000020\n",
      " loss drop at iteration 38: 0.000024\n",
      " loss drop at iteration 39: 0.000021\n",
      " loss drop at iteration 40: 0.000018\n",
      " loss drop at iteration 41: -0.000002\n",
      " loss drop at iteration 42: 0.000014\n",
      " loss drop at iteration 43: 0.000010\n",
      " loss drop at iteration 44: 0.000007\n",
      " loss drop at iteration 45: 0.000007\n",
      " loss drop at iteration 46: 0.000001\n",
      " loss drop at iteration 47: 0.000020\n",
      " loss drop at iteration 48: 0.000010\n",
      " loss drop at iteration 49: -0.000001\n"
     ]
    }
   ],
   "source": [
    "val_loss = model_history.history['val_loss']\n",
    "for i in range(1,len(val_loss)):\n",
    "    #print(\" loss at iteration %d: %f\"%(i, val_loss[i]))\n",
    "    print(\" loss drop at iteration %d: %f\"%(i,val_loss[i-1]-val_loss[i]))\n",
    "    #print()"
   ]
  }
 ],
 "metadata": {
  "kernelspec": {
   "display_name": "Python 3",
   "language": "python",
   "name": "python3"
  },
  "language_info": {
   "codemirror_mode": {
    "name": "ipython",
    "version": 3
   },
   "file_extension": ".py",
   "mimetype": "text/x-python",
   "name": "python",
   "nbconvert_exporter": "python",
   "pygments_lexer": "ipython3",
   "version": "3.7.6"
  }
 },
 "nbformat": 4,
 "nbformat_minor": 4
}
